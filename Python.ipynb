{
  "nbformat": 4,
  "nbformat_minor": 0,
  "metadata": {
    "colab": {
      "provenance": [],
      "authorship_tag": "ABX9TyPd/KHkX7o+uTWR2XDNOxuJ",
      "include_colab_link": true
    },
    "kernelspec": {
      "name": "python3",
      "display_name": "Python 3"
    },
    "language_info": {
      "name": "python"
    }
  },
  "cells": [
    {
      "cell_type": "markdown",
      "metadata": {
        "id": "view-in-github",
        "colab_type": "text"
      },
      "source": [
        "<a href=\"https://colab.research.google.com/github/mathewjosephta/Add-on-Python/blob/main/Python.ipynb\" target=\"_parent\"><img src=\"https://colab.research.google.com/assets/colab-badge.svg\" alt=\"Open In Colab\"/></a>"
      ]
    },
    {
      "cell_type": "code",
      "execution_count": null,
      "metadata": {
        "colab": {
          "base_uri": "https://localhost:8080/"
        },
        "id": "FvCnJrFssI90",
        "outputId": "f40be6b5-4b0a-4207-c1be-9df528af8004"
      },
      "outputs": [
        {
          "output_type": "stream",
          "name": "stdout",
          "text": [
            "      Name  Age  Department   Salary joiningDate\n",
            "0    Alice   25          IT  55000.0  2022-05-15\n",
            "1      Bob   30     Finance      NaN  2021-03-20\n",
            "2  Charlie   35          HR  70000.0  2018-08-10\n",
            "3    Diana   28          IT  60000.0  2020-10-05\n",
            "4    Ethan   34  Operations      NaN  2015-02-25\n",
            "      Name   Salary\n",
            "0    Alice  55000.0\n",
            "1      Bob      NaN\n",
            "2  Charlie  70000.0\n",
            "3    Diana  60000.0\n",
            "4    Ethan      NaN\n",
            "      Name  Age  Department   Salary joiningDate\n",
            "2  Charlie   35          HR  70000.0  2018-08-10\n",
            "4    Ethan   34  Operations      NaN  2015-02-25\n",
            "Department\n",
            "Finance           NaN\n",
            "HR            70000.0\n",
            "IT            57500.0\n",
            "Operations        NaN\n",
            "Name: Salary, dtype: float64\n",
            "      Name  Age  Department   Salary joiningDate\n",
            "2  Charlie   35          HR  70000.0  2018-08-10\n",
            "3    Diana   28          IT  60000.0  2020-10-05\n",
            "0    Alice   25          IT  55000.0  2022-05-15\n",
            "1      Bob   30     Finance      NaN  2021-03-20\n",
            "4    Ethan   34  Operations      NaN  2015-02-25\n"
          ]
        }
      ],
      "source": [
        "import pandas as pd\n",
        "import numpy as np\n",
        "data={\n",
        "    'Name':['Alice','Bob','Charlie','Diana','Ethan'],\n",
        "    'Age':[25,30,35,28,34],\n",
        "    'Department':['IT','Finance','HR','IT','Operations'],\n",
        "    'Salary':[55000,np.nan,70000,60000,np.nan],\n",
        "    'joiningDate':['2022-05-15','2021-03-20','2018-08-10','2020-10-05','2015-02-25']\n",
        "}\n",
        "df=pd.DataFrame(data)\n",
        "print(df)\n",
        "\n",
        "print(df[['Name','Salary']])\n",
        "\n",
        "Filtered_df=df[df['Age']>30]\n",
        "print(Filtered_df)\n",
        "\n",
        "grouped = df.groupby('Department')['Salary'].mean()\n",
        "print(grouped)\n",
        "\n",
        "sorted_df = df.sort_values(by='Salary', ascending=False)\n",
        "print(sorted_df)"
      ]
    },
    {
      "cell_type": "code",
      "source": [],
      "metadata": {
        "id": "fJC_j4P_csgv"
      },
      "execution_count": null,
      "outputs": []
    },
    {
      "cell_type": "code",
      "source": [
        "import pandas as pd\n",
        "import numpy as np\n",
        "data={\n",
        "    'Name':['Alice','Bob','Charlie','Diana','Ethan'],\n",
        "    'Marks':[95,80,62,89,34],\n",
        "    'Grade':['S','A','C','A+','F']\n",
        "}\n",
        "df=pd.DataFrame(data)\n",
        "Filtered_df=df[df['Marks']>50]\n",
        "print(Filtered_df)"
      ],
      "metadata": {
        "colab": {
          "base_uri": "https://localhost:8080/"
        },
        "id": "m_UkslRy3J2L",
        "outputId": "4ebea7e2-880b-4b1c-c953-c98d48123381"
      },
      "execution_count": null,
      "outputs": [
        {
          "output_type": "stream",
          "name": "stdout",
          "text": [
            "      Name  Marks Grade\n",
            "0    Alice     95     S\n",
            "1      Bob     80     A\n",
            "2  Charlie     62     C\n",
            "3    Diana     89    A+\n"
          ]
        }
      ]
    },
    {
      "cell_type": "code",
      "source": [
        "import pandas as pd\n",
        "import numpy as np\n",
        "data={\n",
        "    'Name':['Alice','Bob','Charlie','David','Eva'],\n",
        "    'Age':[25,30,35,40,45],\n",
        "    'Salary':[50000,60000,70000,80000,90000],\n",
        "    'Department':['HR','Finance','Tech','Tech','HR'],\n",
        "    'Experience':[2,5,8,10,12]\n",
        "}\n",
        "df=pd.DataFrame(data)\n",
        "sorted_df = df.sort_values(by=['Department', 'Salary'], ascending=[True, False])\n",
        "\n",
        "print(sorted_df)\n",
        "\n",
        "print(\"Top 5 rows of the sorted DataFrame :\")\n",
        "print(sorted_df.head(5))"
      ],
      "metadata": {
        "colab": {
          "base_uri": "https://localhost:8080/"
        },
        "outputId": "d85bb14d-26ea-4336-b839-eae03044c407",
        "id": "9yiMqdqOT31o"
      },
      "execution_count": null,
      "outputs": [
        {
          "output_type": "stream",
          "name": "stdout",
          "text": [
            "      Name  Age  Salary Department  Experience\n",
            "1      Bob   30   60000    Finance           5\n",
            "4      Eva   45   90000         HR          12\n",
            "0    Alice   25   50000         HR           2\n",
            "3    David   40   80000       Tech          10\n",
            "2  Charlie   35   70000       Tech           8\n",
            "Top 5 rows of the sorted DataFrame :\n",
            "      Name  Age  Salary Department  Experience\n",
            "1      Bob   30   60000    Finance           5\n",
            "4      Eva   45   90000         HR          12\n",
            "0    Alice   25   50000         HR           2\n",
            "3    David   40   80000       Tech          10\n",
            "2  Charlie   35   70000       Tech           8\n"
          ]
        }
      ]
    },
    {
      "cell_type": "code",
      "source": [
        "import pandas as pd\n",
        "import numpy as np\n",
        "data={\n",
        "    'Name':['Alice','Bob','Charlie','David','Eva'],\n",
        "    'Age':[25,30,35,40,45],\n",
        "    'Salary':[50000,60000,70000,80000,90000],\n",
        "    'Department':['HR','Finance','Tech','Tech','HR'],\n",
        "    'Experience':[2,5,8,10,12]\n",
        "}\n",
        "df=pd.DataFrame(data)\n",
        "Filtered_df = df[(df['Salary'] > 60000) & (df['Experience'] > 5) & (df['Department'] == 'Tech')]\n",
        "print(Filtered_df[['Name','Salary','Department']])"
      ],
      "metadata": {
        "colab": {
          "base_uri": "https://localhost:8080/"
        },
        "id": "XsnuBo4f3ngr",
        "outputId": "95491380-e03f-4b72-f316-a9d0d7032beb"
      },
      "execution_count": null,
      "outputs": [
        {
          "output_type": "stream",
          "name": "stdout",
          "text": [
            "      Name  Salary Department\n",
            "2  Charlie   70000       Tech\n",
            "3    David   80000       Tech\n"
          ]
        }
      ]
    },
    {
      "cell_type": "code",
      "source": [
        "import pandas as pd\n",
        "import numpy as np\n",
        "data={\n",
        "    'Name':['Alice','Bob','Charlie','Diana','Ethan','Alice'],\n",
        "    'Age':[25,30,35,28,34,25],\n",
        "    'Department':['IT','Finance','HR','IT','Operations','IT'],\n",
        "    'Salary':[55000,np.nan,70000,60000,np.nan],\n",
        "    'joiningDate':['2022-05-15','2021-03-20','2018-08-10','2020-10-05','2015-02-25']\n",
        "}\n",
        "df=pd.DataFrame(data)\n",
        "print(df)\n",
        "df_dropped = df.dropna()\n",
        "print(df_dropped)\n",
        "df_columns = df.dropna(axis=1)\n",
        "print(df_columns)\n",
        "df_filled_fixed=df.fillna(value=0)\n",
        "print(df_filled_fixed)"
      ],
      "metadata": {
        "colab": {
          "base_uri": "https://localhost:8080/"
        },
        "id": "-NNxt0MhT1Js",
        "outputId": "e12c7e16-59ea-48ab-a73e-ee4049934681"
      },
      "execution_count": null,
      "outputs": [
        {
          "output_type": "stream",
          "name": "stdout",
          "text": [
            "      Name  Age  Department   Salary joiningDate\n",
            "0    Alice   25          IT  55000.0  2022-05-15\n",
            "1      Bob   30     Finance      NaN  2021-03-20\n",
            "2  Charlie   35          HR  70000.0  2018-08-10\n",
            "3    Diana   28          IT  60000.0  2020-10-05\n",
            "4    Ethan   34  Operations      NaN  2015-02-25\n",
            "      Name  Age Department   Salary joiningDate\n",
            "0    Alice   25         IT  55000.0  2022-05-15\n",
            "2  Charlie   35         HR  70000.0  2018-08-10\n",
            "3    Diana   28         IT  60000.0  2020-10-05\n"
          ]
        }
      ]
    },
    {
      "cell_type": "code",
      "source": [
        "import pandas as pd\n",
        "import numpy as np\n",
        "data={\n",
        "    'Name':['Alice','Bob','Charlie','Diana','Ethan','Alice'],\n",
        "    'Age':[25,30,35,28,34,25],\n",
        "    'Department':['IT','Finance','HR','IT','Operations','IT']\n",
        "}\n",
        "df=pd.DataFrame(data)\n",
        "duplicates=df.duplicated()\n",
        "print(duplicates)\n",
        "df_no_duplicates=df.drop_duplicates()\n",
        "print(df_no_duplicates)"
      ],
      "metadata": {
        "colab": {
          "base_uri": "https://localhost:8080/"
        },
        "id": "GzpnEigfgAw7",
        "outputId": "a5b161b2-288b-421a-b65b-28be41baff78"
      },
      "execution_count": null,
      "outputs": [
        {
          "output_type": "stream",
          "name": "stdout",
          "text": [
            "0    False\n",
            "1    False\n",
            "2    False\n",
            "3    False\n",
            "4    False\n",
            "5     True\n",
            "dtype: bool\n",
            "      Name  Age  Department\n",
            "0    Alice   25          IT\n",
            "1      Bob   30     Finance\n",
            "2  Charlie   35          HR\n",
            "3    Diana   28          IT\n",
            "4    Ethan   34  Operations\n"
          ]
        }
      ]
    },
    {
      "cell_type": "code",
      "source": [
        "import pandas as pd\n",
        "df1=pd.DataFrame({\n",
        "    'ID':[1,2,3],\n",
        "    'Name':['Alice','Bob','Charlie']\n",
        "})\n",
        "\n",
        "df2=pd.DataFrame({\n",
        "    'ID':[2,3,4],\n",
        "    'Score':[85,90,95]\n",
        "})\n",
        "\n",
        "merged=pd.merge(df1,df2)\n",
        "print(merged)"
      ],
      "metadata": {
        "colab": {
          "base_uri": "https://localhost:8080/"
        },
        "id": "xDLXcKUphm9a",
        "outputId": "ed4d6284-c871-47e9-c9f3-42297ebe7118"
      },
      "execution_count": null,
      "outputs": [
        {
          "output_type": "stream",
          "name": "stdout",
          "text": [
            "   ID     Name  Score\n",
            "0   2      Bob     85\n",
            "1   3  Charlie     90\n"
          ]
        }
      ]
    },
    {
      "cell_type": "code",
      "source": [
        "import pandas as pd\n",
        "df1=pd.DataFrame({\n",
        "    'ID':[1,2,3],\n",
        "    'Name':['Alice','Bob','Charlie']\n",
        "})\n",
        "\n",
        "df2=pd.DataFrame({\n",
        "    'ID':[2,3,4],\n",
        "    'Score':[85,90,95]\n",
        "})\n",
        "\n",
        "merged=pd.merge(df1,df2)\n",
        "print(merged)"
      ],
      "metadata": {
        "id": "BLWbZ61SjJgh"
      },
      "execution_count": null,
      "outputs": []
    }
  ]
}